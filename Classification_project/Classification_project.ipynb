{
 "cells": [
  {
   "cell_type": "markdown",
   "metadata": {},
   "source": [
    "Practical data scince course- Classification project\n",
    "July 2021\n",
    "Ido Shirat; 201116175"
   ]
  },
  {
   "cell_type": "markdown",
   "metadata": {},
   "source": [
    "# Goal"
   ]
  },
  {
   "cell_type": "markdown",
   "metadata": {},
   "source": [
    "I was hired by \"cod-cod\" company.\n",
    "My goal is to gain data about boardgames and predict boardgame popularity and share it with the board."
   ]
  },
  {
   "cell_type": "markdown",
   "metadata": {},
   "source": [
    "# Scoring"
   ]
  },
  {
   "cell_type": "markdown",
   "metadata": {},
   "source": [
    "Board expcet me to reach a minimum of 95% accuracy"
   ]
  },
  {
   "cell_type": "markdown",
   "metadata": {},
   "source": [
    "# Import packages"
   ]
  },
  {
   "cell_type": "code",
   "execution_count": 1,
   "metadata": {},
   "outputs": [],
   "source": [
    "# #<! Installing updated version of XGBoost\n",
    "# !pip uninstall --yes xgboost\n",
    "# !pip install xgboost"
   ]
  },
  {
   "cell_type": "code",
   "execution_count": 2,
   "metadata": {
    "id": "JhKHm10dnXFz"
   },
   "outputs": [],
   "source": [
    "# General Tools\n",
    "import numpy as np\n",
    "import scipy as sp\n",
    "import pandas as pd\n",
    "\n",
    "# SK Learn\n",
    "from sklearn.tree import DecisionTreeClassifier\n",
    "from sklearn.neighbors import KNeighborsClassifier\n",
    "from sklearn.linear_model import LogisticRegression\n",
    "from sklearn.ensemble import RandomForestClassifier\n",
    "from sklearn.metrics import confusion_matrix, accuracy_score, classification_report\n",
    "from sklearn.metrics import precision_score, recall_score, f1_score\n",
    "from sklearn.metrics import log_loss\n",
    "from sklearn.model_selection import train_test_split, GridSearchCV\n",
    "from sklearn.feature_selection import SelectKBest, chi2, f_classif, mutual_info_classif\n",
    "from sklearn.model_selection import cross_val_score\n",
    "from sklearn.model_selection import StratifiedShuffleSplit\n",
    "from sklearn.model_selection import train_test_split\n",
    "from sklearn.ensemble import BaggingClassifier,AdaBoostClassifier,GradientBoostingClassifier\n",
    "from sklearn.preprocessing import MinMaxScaler,MaxAbsScaler, StandardScaler\n",
    "from sklearn.metrics import roc_curve, roc_auc_score\n",
    "\n",
    "\n",
    "# XGBoost\n",
    "import xgboost as xgb\n",
    "\n",
    "# Trees Visualization\n",
    "import pydot\n",
    "from sklearn.tree import export_graphviz\n",
    "# from sklearn.externals.six import StringIO\n",
    "\n",
    "# Misc\n",
    "import warnings\n",
    "from sys import modules\n",
    "from time import time\n",
    "from platform import python_version\n",
    "\n",
    "# Visualization\n",
    "import matplotlib.pyplot as plt\n",
    "import seaborn as sns\n",
    "\n",
    "# IPython\n",
    "from IPython.display import Image, display\n",
    "\n",
    "# Confuguration\n",
    "warnings.filterwarnings('ignore')\n",
    "%matplotlib inline"
   ]
  },
  {
   "cell_type": "markdown",
   "metadata": {
    "id": "cf8GyfaZntBe"
   },
   "source": [
    "# **EDA**"
   ]
  },
  {
   "cell_type": "markdown",
   "metadata": {
    "id": "TeRnodIVn2mu"
   },
   "source": [
    "**Data inspection**"
   ]
  },
  {
   "cell_type": "code",
   "execution_count": 3,
   "metadata": {
    "colab": {
     "base_uri": "https://localhost:8080/"
    },
    "id": "_nEGBI4ri3kH",
    "outputId": "5682d4b0-635d-472e-9773-733fddfa9f65"
   },
   "outputs": [],
   "source": [
    "df_raw = pd.read_csv('train.csv')\n",
    "SHOW_PLOTS_AND_TABELS= False\n",
    "\n",
    "if SHOW_PLOTS_AND_TABELS:\n",
    "    print(df_raw.sample(5))\n",
    "    print(df_raw.info())\n",
    "\n"
   ]
  },
  {
   "cell_type": "code",
   "execution_count": 4,
   "metadata": {
    "id": "oba0fN4wka5L"
   },
   "outputs": [],
   "source": [
    "if SHOW_PLOTS_AND_TABELS:\n",
    "    sns.pairplot(df_train_raw)"
   ]
  },
  {
   "cell_type": "code",
   "execution_count": 5,
   "metadata": {
    "colab": {
     "base_uri": "https://localhost:8080/",
     "height": 517
    },
    "id": "BsvUjnCDl1hU",
    "outputId": "b387efba-6590-4844-c575-7c956d67e13d"
   },
   "outputs": [],
   "source": [
    "if SHOW_PLOTS_AND_TABELS:\n",
    "    plt.style.use('ggplot')\n",
    "    plt.figure(figsize= (12,8))\n",
    "    sns.histplot(df_raw.geek_rating, bins=50,color='r')"
   ]
  },
  {
   "cell_type": "code",
   "execution_count": 6,
   "metadata": {
    "id": "xhfk-FgYiIcA"
   },
   "outputs": [],
   "source": [
    "## create a multiclass descrete rating\n",
    "df = df_raw\n",
    "\n",
    "# df['Boardgame_rating'] = np.nan\n",
    "df.loc[df.geek_rating<6,'Boardgame_rating'] = 1\n",
    "df.loc[(df.geek_rating<6.5)&(df.geek_rating>=6),'Boardgame_rating'] = 2\n",
    "df.loc[df.geek_rating>=6.5,'Boardgame_rating'] = 3\n",
    "df['Boardgame_rating'].value_counts()\n",
    "df['Boardgame_rating'] = df['Boardgame_rating'].astype(str)\n",
    "df = df.drop(columns= ['geek_rating','game_id'])\n",
    "\n",
    "for c in df.columns[df.dtypes=='object']:\n",
    "    df[c] = df[c].str.lower()\n",
    "    df[c] = df[c].str.replace(' ','')\n",
    "#     df[c] = df[c].str.replace(',','')\n",
    "    df[c] = df[c].str.replace('<','')\n",
    "    df[c] = df[c].str.replace('>','')\n",
    "    df[c] = df[c].str.replace('','')\n",
    "    df[c] = df[c].str.replace(']','')\n",
    "    df[c] = df[c].str.replace('[','')"
   ]
  },
  {
   "cell_type": "code",
   "execution_count": 7,
   "metadata": {},
   "outputs": [],
   "source": [
    "## corr to rating\n",
    "if SHOW_PLOTS_AND_TABELS:\n",
    "    plt.style.use('ggplot')\n",
    "\n",
    "    for c in df.columns[df.dtypes== np.int64]:\n",
    "        plt.figure()\n",
    "        sns.jointplot( x= df[c], y=df['Boardgame_rating'])\n"
   ]
  },
  {
   "cell_type": "code",
   "execution_count": 8,
   "metadata": {
    "colab": {
     "base_uri": "https://localhost:8080/",
     "height": 611
    },
    "id": "dSDTU8rIsSgf",
    "outputId": "99d1ff13-40e7-4cf6-ec8c-b9c7e30cdae0"
   },
   "outputs": [
    {
     "data": {
      "text/html": [
       "<div>\n",
       "<style scoped>\n",
       "    .dataframe tbody tr th:only-of-type {\n",
       "        vertical-align: middle;\n",
       "    }\n",
       "\n",
       "    .dataframe tbody tr th {\n",
       "        vertical-align: top;\n",
       "    }\n",
       "\n",
       "    .dataframe thead th {\n",
       "        text-align: right;\n",
       "    }\n",
       "</style>\n",
       "<table border=\"1\" class=\"dataframe\">\n",
       "  <thead>\n",
       "    <tr style=\"text-align: right;\">\n",
       "      <th></th>\n",
       "      <th>names</th>\n",
       "      <th>min_players</th>\n",
       "      <th>max_players</th>\n",
       "      <th>avg_time</th>\n",
       "      <th>min_time</th>\n",
       "      <th>max_time</th>\n",
       "      <th>year</th>\n",
       "      <th>num_votes</th>\n",
       "      <th>age</th>\n",
       "      <th>mechanic</th>\n",
       "      <th>...</th>\n",
       "      <th>category5</th>\n",
       "      <th>category6</th>\n",
       "      <th>category7</th>\n",
       "      <th>category8</th>\n",
       "      <th>category9</th>\n",
       "      <th>category10</th>\n",
       "      <th>category11</th>\n",
       "      <th>category12</th>\n",
       "      <th>designer</th>\n",
       "      <th>Boardgame_rating</th>\n",
       "    </tr>\n",
       "  </thead>\n",
       "  <tbody>\n",
       "  </tbody>\n",
       "</table>\n",
       "<p>0 rows × 25 columns</p>\n",
       "</div>"
      ],
      "text/plain": [
       "Empty DataFrame\n",
       "Columns: [names, min_players, max_players, avg_time, min_time, max_time, year, num_votes, age, mechanic, owned, category1, category2, category3, category4, category5, category6, category7, category8, category9, category10, category11, category12, designer, Boardgame_rating]\n",
       "Index: []\n",
       "\n",
       "[0 rows x 25 columns]"
      ]
     },
     "execution_count": 8,
     "metadata": {},
     "output_type": "execute_result"
    }
   ],
   "source": [
    "# Duplications\n",
    "df.names.value_counts()\n",
    "df[df.names =='cosmic encounter']"
   ]
  },
  {
   "cell_type": "code",
   "execution_count": 9,
   "metadata": {},
   "outputs": [],
   "source": [
    "# a = df[['names','Boardgame_rating']]\n",
    "# a.names = a.names.str.lower()\n",
    "# a.names = a.names.str.split(' ')\n",
    "# b = a.explode('names')\n",
    "# b.Boardgame_rating = b.Boardgame_rating.astype(float)\n",
    "# pop = b.names.value_counts()[b.names.value_counts()>30].index\n",
    "# c = b.groupby('names').Boardgame_rating.mean()\n",
    "# c.loc[pop]\n",
    "\n",
    "# df.Boardgame_rating = df.Boardgame_rating.astype(float)\n",
    "# df.loc[df.category1.str.contains('Building'),'Boardgame_rating'].mean()\n"
   ]
  },
  {
   "cell_type": "code",
   "execution_count": 10,
   "metadata": {},
   "outputs": [],
   "source": [
    "# df[df['designer_0'].isin(df['designer_0'].value_counts()[df['designer_0'].value_counts()>20].index)].groupby('designer_0').Boardgame_rating.mean()"
   ]
  },
  {
   "cell_type": "code",
   "execution_count": 11,
   "metadata": {
    "colab": {
     "base_uri": "https://localhost:8080/"
    },
    "id": "Wu0FH7KBtatG",
    "outputId": "18a3b1f2-633b-46a7-ff67-abce94a07598"
   },
   "outputs": [],
   "source": [
    "## nans\n",
    "if SHOW_PLOTS_AND_TABELS:\n",
    "    df.info()"
   ]
  },
  {
   "cell_type": "markdown",
   "metadata": {
    "id": "OhIfsPldtTRg"
   },
   "source": [
    "**Data splitting**"
   ]
  },
  {
   "cell_type": "code",
   "execution_count": 12,
   "metadata": {
    "id": "yOLlG9EYar6l"
   },
   "outputs": [],
   "source": [
    "## split designer\n",
    "def desinger_split_func(df):\n",
    "    df['designer_split'] = pd.DataFrame(data=df.designer.str.split(','))\n",
    "    designer_split_df = pd.DataFrame(df.designer_split.tolist())\n",
    "    for col in designer_split_df.columns:\n",
    "        designer_split_df = designer_split_df.rename(columns={col:f'designer_{col}'})\n",
    "    df = pd.concat([df,designer_split_df],axis=1)\n",
    "    df = df.drop(columns=['designer','designer_split'])\n",
    "    return df\n",
    "df = desinger_split_func(df)\n",
    "\n"
   ]
  },
  {
   "cell_type": "code",
   "execution_count": 13,
   "metadata": {
    "id": "yHmA4HB0psoH"
   },
   "outputs": [],
   "source": [
    "# split mechanic \n",
    "def mechanic_split_func(df):\n",
    "    df['mechanic_split'] = pd.DataFrame(data=df.mechanic.str.split(','))\n",
    "    mechanic_split_df = pd.DataFrame(df.mechanic_split.tolist())\n",
    "    for col in mechanic_split_df.columns:\n",
    "        mechanic_split_df = mechanic_split_df.rename(columns={col:f'mechanic_{col}'})\n",
    "    df = pd.concat([df,mechanic_split_df],axis=1)\n",
    "    df = df.drop(columns=['mechanic','mechanic_split'])\n",
    "    return df\n",
    "\n",
    "df = mechanic_split_func(df)"
   ]
  },
  {
   "cell_type": "code",
   "execution_count": 14,
   "metadata": {},
   "outputs": [
    {
     "data": {
      "text/html": [
       "<div>\n",
       "<style scoped>\n",
       "    .dataframe tbody tr th:only-of-type {\n",
       "        vertical-align: middle;\n",
       "    }\n",
       "\n",
       "    .dataframe tbody tr th {\n",
       "        vertical-align: top;\n",
       "    }\n",
       "\n",
       "    .dataframe thead th {\n",
       "        text-align: right;\n",
       "    }\n",
       "</style>\n",
       "<table border=\"1\" class=\"dataframe\">\n",
       "  <thead>\n",
       "    <tr style=\"text-align: right;\">\n",
       "      <th></th>\n",
       "      <th>designer_0</th>\n",
       "      <th>designer_1</th>\n",
       "      <th>designer_2</th>\n",
       "      <th>designer_3</th>\n",
       "      <th>designer_4</th>\n",
       "      <th>designer_5</th>\n",
       "      <th>designer_6</th>\n",
       "      <th>designer_7</th>\n",
       "      <th>designer_8</th>\n",
       "      <th>designer_9</th>\n",
       "      <th>designer_10</th>\n",
       "    </tr>\n",
       "  </thead>\n",
       "  <tbody>\n",
       "    <tr>\n",
       "      <th>1553</th>\n",
       "      <td>reinerknizia</td>\n",
       "      <td>None</td>\n",
       "      <td>None</td>\n",
       "      <td>None</td>\n",
       "      <td>None</td>\n",
       "      <td>None</td>\n",
       "      <td>None</td>\n",
       "      <td>None</td>\n",
       "      <td>None</td>\n",
       "      <td>None</td>\n",
       "      <td>None</td>\n",
       "    </tr>\n",
       "    <tr>\n",
       "      <th>671</th>\n",
       "      <td>brunocathala</td>\n",
       "      <td>sergelaget</td>\n",
       "      <td>None</td>\n",
       "      <td>None</td>\n",
       "      <td>None</td>\n",
       "      <td>None</td>\n",
       "      <td>None</td>\n",
       "      <td>None</td>\n",
       "      <td>None</td>\n",
       "      <td>None</td>\n",
       "      <td>None</td>\n",
       "    </tr>\n",
       "    <tr>\n",
       "      <th>2297</th>\n",
       "      <td>stevejackson(i)</td>\n",
       "      <td>None</td>\n",
       "      <td>None</td>\n",
       "      <td>None</td>\n",
       "      <td>None</td>\n",
       "      <td>None</td>\n",
       "      <td>None</td>\n",
       "      <td>None</td>\n",
       "      <td>None</td>\n",
       "      <td>None</td>\n",
       "      <td>None</td>\n",
       "    </tr>\n",
       "    <tr>\n",
       "      <th>2538</th>\n",
       "      <td>chriszinsli</td>\n",
       "      <td>suzannezinsli</td>\n",
       "      <td>None</td>\n",
       "      <td>None</td>\n",
       "      <td>None</td>\n",
       "      <td>None</td>\n",
       "      <td>None</td>\n",
       "      <td>None</td>\n",
       "      <td>None</td>\n",
       "      <td>None</td>\n",
       "      <td>None</td>\n",
       "    </tr>\n",
       "    <tr>\n",
       "      <th>474</th>\n",
       "      <td>alessandrozucchini</td>\n",
       "      <td>None</td>\n",
       "      <td>None</td>\n",
       "      <td>None</td>\n",
       "      <td>None</td>\n",
       "      <td>None</td>\n",
       "      <td>None</td>\n",
       "      <td>None</td>\n",
       "      <td>None</td>\n",
       "      <td>None</td>\n",
       "      <td>None</td>\n",
       "    </tr>\n",
       "  </tbody>\n",
       "</table>\n",
       "</div>"
      ],
      "text/plain": [
       "              designer_0     designer_1 designer_2 designer_3 designer_4  \\\n",
       "1553        reinerknizia           None       None       None       None   \n",
       "671         brunocathala     sergelaget       None       None       None   \n",
       "2297     stevejackson(i)           None       None       None       None   \n",
       "2538         chriszinsli  suzannezinsli       None       None       None   \n",
       "474   alessandrozucchini           None       None       None       None   \n",
       "\n",
       "     designer_5 designer_6 designer_7 designer_8 designer_9 designer_10  \n",
       "1553       None       None       None       None       None        None  \n",
       "671        None       None       None       None       None        None  \n",
       "2297       None       None       None       None       None        None  \n",
       "2538       None       None       None       None       None        None  \n",
       "474        None       None       None       None       None        None  "
      ]
     },
     "execution_count": 14,
     "metadata": {},
     "output_type": "execute_result"
    }
   ],
   "source": [
    "# df.Boardgame_rating = df.Boardgame_rating.astype(float)\n",
    "# sns.pairplot(df)\n",
    "# df.Boardgame_rating = df.Boardgame_rating.astype(str)\n",
    "# df.Boardgame_rating = df.Boardgame_rating.astype(str)\n",
    "df[df.columns[df.columns.str.contains('designer')]].sample(5)"
   ]
  },
  {
   "cell_type": "markdown",
   "metadata": {
    "id": "6fPMVXQvoNCx"
   },
   "source": [
    "**Data cleanning**"
   ]
  },
  {
   "cell_type": "code",
   "execution_count": 15,
   "metadata": {},
   "outputs": [],
   "source": [
    "## geek_rating_cat\n",
    "if SHOW_PLOTS_AND_TABELS:\n",
    "    sns.histplot(df.Boardgame_rating, bins=50)\n"
   ]
  },
  {
   "cell_type": "code",
   "execution_count": 16,
   "metadata": {
    "colab": {
     "base_uri": "https://localhost:8080/",
     "height": 959
    },
    "id": "h4qXuHbvIqhk",
    "outputId": "b196b30d-7dea-4a3e-cb19-b3acb2f57fc4"
   },
   "outputs": [],
   "source": [
    "## min_players\n",
    "if SHOW_PLOTS_AND_TABELS:\n",
    "    plt.style.use('ggplot')\n",
    "    plt.figure(figsize=(12,8))\n",
    "    sns.jointplot(df.min_players, df.Boardgame_rating)\n",
    "    plt.figure(figsize=(12,8))\n",
    "    sns.histplot(df.min_players, bins=50)\n",
    "df.min_players = df.min_players.astype(str)"
   ]
  },
  {
   "cell_type": "code",
   "execution_count": 17,
   "metadata": {
    "colab": {
     "base_uri": "https://localhost:8080/",
     "height": 1000
    },
    "id": "9erAUkmjJfub",
    "outputId": "3ba5401f-7b49-4627-8295-d7370c9ab8fa"
   },
   "outputs": [],
   "source": [
    "# ## max_players\n",
    "if SHOW_PLOTS_AND_TABELS:\n",
    "    plt.style.use('ggplot')\n",
    "    plt.figure(figsize=(12,8))\n",
    "    sns.jointplot(df.max_players, df.Boardgame_rating)\n",
    "    plt.figure(figsize=(12,8))\n",
    "    sns.histplot(df.max_players, bins=50)\n",
    "\n",
    "df = df[df['max_players']<50]\n",
    "df.max_players = df.max_players.astype(str)\n",
    "\n",
    "if SHOW_PLOTS_AND_TABELS:\n",
    "    plt.figure(figsize=(12,8))\n",
    "    sns.jointplot(df.max_players, df.Boardgame_rating)\n",
    "    plt.figure(figsize=(12,8))\n",
    "    sns.histplot(df.max_players, bins=50)"
   ]
  },
  {
   "cell_type": "code",
   "execution_count": 18,
   "metadata": {
    "colab": {
     "base_uri": "https://localhost:8080/",
     "height": 1000
    },
    "id": "To8X1c4fvInR",
    "outputId": "52ca6ae5-d0f9-4077-85f9-ec6752f58e7d"
   },
   "outputs": [],
   "source": [
    "## avg_time\n",
    "if SHOW_PLOTS_AND_TABELS:\n",
    "    plt.style.use('ggplot')\n",
    "    plt.figure(figsize=(12,8))\n",
    "    sns.jointplot(df.avg_time, df.Boardgame_rating)\n",
    "    plt.figure(figsize=(12,8))\n",
    "    sns.histplot(df.avg_time, bins=50)\n",
    "\n",
    "\n",
    "df = df[(df['avg_time']<2000)&(df['avg_time']>0)]\n",
    "\n",
    "if SHOW_PLOTS_AND_TABELS:\n",
    "    plt.figure(figsize=(12,8))\n",
    "    sns.jointplot(df.avg_time, df.Boardgame_rating)\n",
    "    plt.figure(figsize=(12,8))\n",
    "    sns.histplot(df.avg_time, bins=50)"
   ]
  },
  {
   "cell_type": "code",
   "execution_count": 19,
   "metadata": {
    "colab": {
     "base_uri": "https://localhost:8080/",
     "height": 959
    },
    "id": "3WHWlA0xwtAX",
    "outputId": "f0ee5d24-70e4-46e8-a47f-d7a50d878502"
   },
   "outputs": [],
   "source": [
    "## min_time\n",
    "if SHOW_PLOTS_AND_TABELS:\n",
    "    plt.style.use('ggplot')\n",
    "    plt.figure(figsize=(12,8))\n",
    "    sns.jointplot(df.min_time, df.Boardgame_rating)\n",
    "    plt.figure(figsize=(12,8))\n",
    "    sns.histplot(df.min_time, bins=50)\n",
    "df = df[df['min_time']>0]\n",
    "\n"
   ]
  },
  {
   "cell_type": "code",
   "execution_count": 20,
   "metadata": {
    "colab": {
     "base_uri": "https://localhost:8080/",
     "height": 959
    },
    "id": "HZ9Fa2vDxM_n",
    "outputId": "66b55224-3666-4350-ccaa-cbfe1358a5d0"
   },
   "outputs": [],
   "source": [
    "## max_time\n",
    "if SHOW_PLOTS_AND_TABELS:\n",
    "    plt.style.use('ggplot')\n",
    "    plt.figure(figsize=(12,8))\n",
    "    sns.jointplot(df.max_time, df.Boardgame_rating)\n",
    "    plt.figure(figsize=(12,8))\n",
    "    sns.histplot(df.max_time, bins=50)\n",
    "df = df[df['max_time']>0]\n"
   ]
  },
  {
   "cell_type": "code",
   "execution_count": 21,
   "metadata": {
    "colab": {
     "base_uri": "https://localhost:8080/",
     "height": 1000
    },
    "id": "uTeddNKNxqLT",
    "outputId": "06436c06-8434-45fb-b0fc-ea3697087b57"
   },
   "outputs": [],
   "source": [
    "## year\n",
    "if SHOW_PLOTS_AND_TABELS:\n",
    "    plt.style.use('ggplot')\n",
    "    plt.figure(figsize=(12,8))\n",
    "    sns.jointplot(df.year, df.Boardgame_rating)\n",
    "    plt.figure(figsize=(12,8))\n",
    "    sns.histplot(df.year, bins=50)\n",
    "\n",
    "df = df[df.year>1000]\n",
    "\n",
    "if SHOW_PLOTS_AND_TABELS:\n",
    "    plt.figure(figsize=(12,8))\n",
    "    sns.jointplot(df.year, df.Boardgame_rating)\n",
    "    plt.figure(figsize=(12,8))\n",
    "    sns.histplot(df.year, bins=50)"
   ]
  },
  {
   "cell_type": "code",
   "execution_count": 22,
   "metadata": {
    "colab": {
     "base_uri": "https://localhost:8080/",
     "height": 1000
    },
    "id": "N4DjGmR8yXFr",
    "outputId": "14e47751-61fb-45df-c9af-657710a3b8fd"
   },
   "outputs": [],
   "source": [
    "## num_votes\n",
    "if SHOW_PLOTS_AND_TABELS:\n",
    "    plt.style.use('ggplot')\n",
    "    plt.figure(figsize=(12,8))\n",
    "    sns.jointplot(df.num_votes, df.Boardgame_rating)\n",
    "    plt.figure(figsize=(12,8))\n",
    "    sns.histplot(df.num_votes, bins=50)\n",
    "\n",
    "df = df[(df.num_votes>(df.num_votes.mean()-df.num_votes.std()*3))&(df.num_votes<(df.num_votes.mean()+df.num_votes.std()*3))]\n",
    "\n",
    "if SHOW_PLOTS_AND_TABELS:\n",
    "    plt.figure(figsize=(12,8))\n",
    "    sns.jointplot(df.num_votes, df.Boardgame_rating)\n",
    "    plt.figure(figsize=(12,8))\n",
    "    sns.histplot(df.num_votes, bins=50)"
   ]
  },
  {
   "cell_type": "code",
   "execution_count": 23,
   "metadata": {
    "colab": {
     "base_uri": "https://localhost:8080/",
     "height": 1000
    },
    "id": "06860MOIzMR5",
    "outputId": "8412a286-9714-4591-de8d-83f470cd0afa"
   },
   "outputs": [],
   "source": [
    "## age\n",
    "if SHOW_PLOTS_AND_TABELS:\n",
    "    plt.style.use('ggplot')\n",
    "    plt.figure(figsize=(12,8))\n",
    "    sns.jointplot(df.age, df.Boardgame_rating)\n",
    "    plt.figure(figsize=(12,8))\n",
    "    sns.histplot(df.age, bins=50)\n",
    "\n",
    "df = df[df.age<30]\n",
    "\n",
    "if SHOW_PLOTS_AND_TABELS:\n",
    "    plt.figure(figsize=(12,8))\n",
    "    sns.jointplot(df.age, df.Boardgame_rating)\n",
    "    plt.figure(figsize=(12,8))\n",
    "    sns.histplot(df.age, bins=50)"
   ]
  },
  {
   "cell_type": "code",
   "execution_count": 24,
   "metadata": {
    "colab": {
     "base_uri": "https://localhost:8080/",
     "height": 1000
    },
    "id": "hB2zyR-f0lXV",
    "outputId": "c562f1b5-b1a7-48e7-c2ec-ea668120e95d"
   },
   "outputs": [],
   "source": [
    "## owned\n",
    "if SHOW_PLOTS_AND_TABELS:\n",
    "    plt.style.use('ggplot')\n",
    "    plt.figure(figsize=(12,8))\n",
    "    sns.jointplot(df.owned, df.Boardgame_rating)\n",
    "    plt.figure(figsize=(12,8))\n",
    "    sns.histplot(df.owned, bins=50)\n",
    "\n",
    "df = df[(df.owned>(df.owned.mean()-df.owned.std()*3))&(df.owned<(df.owned.mean()+df.owned.std()*3))]\n",
    "\n",
    "if SHOW_PLOTS_AND_TABELS:\n",
    "    plt.figure(figsize=(12,8))\n",
    "    sns.jointplot(df.owned, df.Boardgame_rating)\n",
    "    plt.figure(figsize=(12,8))\n",
    "    sns.histplot(df.owned, bins=50)"
   ]
  },
  {
   "cell_type": "code",
   "execution_count": 25,
   "metadata": {
    "id": "0q5lyHzV1O1l"
   },
   "outputs": [],
   "source": [
    "## designer\n",
    "\n",
    "def rating_groups_func(df, col_type):\n",
    "    df_groups_rating = pd.DataFrame()\n",
    "    for col in df[df.columns[df.columns.str.contains(col_type)]]:\n",
    "        a = df[[col,'Boardgame_rating']].rename(columns= {col:col_type})\n",
    "        df_groups_rating = pd.concat([df_groups_rating, a],axis=0)\n",
    "    df_groups_rating = df_groups_rating[~df_groups_rating.isna()]\n",
    "    \n",
    "    df_groups_rating = df_groups_rating.groupby(col_type,as_index=False).Boardgame_rating.mean()\n",
    "    df_groups_rating[f'{col_type}_group'] = np.nan\n",
    "    for inx,row in df_groups_rating.iterrows():\n",
    "        df_groups_rating.loc[inx,f'{col_type}_group'] = df.Boardgame_rating.unique()[np.argmin(abs(row.Boardgame_rating-df.Boardgame_rating.unique()))]\n",
    "\n",
    "    for col in df[df.columns[df.columns.str.contains(col_type)]]:\n",
    "        col_df= df_groups_rating.rename(columns={col_type:col,f'{col_type}_group':f'{col}_group'})\n",
    "        df = pd.merge(df,col_df[[col,f'{col}_group']], how='left', on=col)\n",
    "    df[f'{col_type}_rating_mean'] = df[df.columns[df.columns.str.contains('group')]].mean(axis=1)\n",
    "    \n",
    "    if SHOW_PLOTS_AND_TABELS:\n",
    "        plt.figure()\n",
    "        sns.scatterplot(x=df[f'{col}_group'],y=df.Boardgame_rating)\n",
    "    return df\n",
    "\n",
    "def object_type_agg_dummies(df,col_type):\n",
    "    a= df[df.columns[df.columns.str.contains(col_type)]]\n",
    "    b=a.stack().str.get_dummies().sum(level=0)\n",
    "    df = pd.concat([df.reset_index(),b.reset_index()],axis=1)\n",
    "    return df\n",
    "\n",
    "df = object_type_agg_dummies(df,'designer')\n",
    "\n",
    "df.Boardgame_rating = df.Boardgame_rating.astype(float)\n",
    "df = rating_groups_func(df, 'designer')\n",
    "df.Boardgame_rating = df.Boardgame_rating.astype(str)\n",
    "\n",
    "\n",
    "df = df.drop(columns=df[df.columns[(df.columns.str.contains('designer'))&(df.dtypes==object)]].columns)\n",
    "\n"
   ]
  },
  {
   "cell_type": "code",
   "execution_count": 26,
   "metadata": {
    "colab": {
     "base_uri": "https://localhost:8080/"
    },
    "id": "uBj3WdXIfQKc",
    "outputId": "40ec81fe-973c-4333-fbc7-d760d1faaca8"
   },
   "outputs": [],
   "source": [
    "## category\n",
    "\n",
    "df = object_type_agg_dummies(df,'category')\n",
    "\n",
    "df.Boardgame_rating = df.Boardgame_rating.astype(float)\n",
    "df = rating_groups_func(df, 'category')\n",
    "df.Boardgame_rating = df.Boardgame_rating.astype(str)\n",
    "\n",
    "df = df.drop(columns=df[df.columns[(df.columns.str.contains('category'))&(df.dtypes==object)]].columns)\n"
   ]
  },
  {
   "cell_type": "code",
   "execution_count": 27,
   "metadata": {},
   "outputs": [],
   "source": [
    "## mechanic\n",
    "df= df.drop(columns=['index','level_0'])\n",
    "df = object_type_agg_dummies(df,'mechanic')\n",
    "\n",
    "df.Boardgame_rating = df.Boardgame_rating.astype(float)\n",
    "df = rating_groups_func(df, 'mechanic')\n",
    "df.Boardgame_rating = df.Boardgame_rating.astype(str)\n",
    "\n",
    "df = df.drop(columns=df[df.columns[(df.columns.str.contains('mechanic'))&(df.dtypes==object)]].columns)\n",
    "df= df.drop(columns='index')\n"
   ]
  },
  {
   "cell_type": "markdown",
   "metadata": {
    "id": "T2ihdgctoSPz"
   },
   "source": [
    "**Feature enegeniring**"
   ]
  },
  {
   "cell_type": "code",
   "execution_count": 28,
   "metadata": {
    "id": "BBvSIJ_DogEH"
   },
   "outputs": [],
   "source": [
    "df['num_owner_per_year'] = df.owned/ (2021 - df.year)\n",
    "df['num_votes_per_year'] = df.num_votes/ (2021 - df.year)\n",
    "df['owned_to_votes_ratio'] = df.owned/df.num_votes\n",
    "df['num_votes_log'] = np.log10(df['num_votes'])\n",
    "\n",
    "\n",
    "\n",
    "# if SHOW_PLOTS_AND_TABELS:\n",
    "#     sns.scatterplot(x=df['owned_to_votes_ratio'],y=df.Boardgame_rating)\n",
    "for c in df.columns:\n",
    "    df[c] = df[c].fillna(0)\n",
    "df=df[df.columns[~df.columns.duplicated(keep=False)]]"
   ]
  },
  {
   "cell_type": "code",
   "execution_count": null,
   "metadata": {},
   "outputs": [],
   "source": []
  },
  {
   "cell_type": "code",
   "execution_count": 29,
   "metadata": {},
   "outputs": [],
   "source": [
    "## predictro set to dummies; y= predicted values\n",
    "X = pd.get_dummies(df.drop(columns= 'Boardgame_rating'))\n",
    "y = df['Boardgame_rating']"
   ]
  },
  {
   "cell_type": "code",
   "execution_count": 30,
   "metadata": {},
   "outputs": [],
   "source": [
    "## X and y split\n",
    "X_train, X_test, y_train, y_test = train_test_split(X, y, random_state= 1234,test_size= 0.3 ,stratify= df['Boardgame_rating'])\n"
   ]
  },
  {
   "cell_type": "code",
   "execution_count": 59,
   "metadata": {},
   "outputs": [
    {
     "data": {
      "text/plain": [
       "3125    2.0\n",
       "370     1.0\n",
       "2032    1.0\n",
       "776     3.0\n",
       "1503    3.0\n",
       "       ... \n",
       "2375    1.0\n",
       "2954    1.0\n",
       "1614    3.0\n",
       "1795    3.0\n",
       "1985    1.0\n",
       "Name: Boardgame_rating, Length: 2241, dtype: object"
      ]
     },
     "execution_count": 59,
     "metadata": {},
     "output_type": "execute_result"
    }
   ],
   "source": [
    "## train set scaling\n",
    "##MinMaxScaler,MaxAbsScaler, StandardScaler\n",
    "scaler = StandardScaler()\n",
    "\n",
    "X_train_scaled = scaler.fit_transform(X_train)\n",
    "X_train_scaled = pd.DataFrame(data= X_train_scaled,columns=X_train.columns)\n"
   ]
  },
  {
   "cell_type": "code",
   "execution_count": 32,
   "metadata": {},
   "outputs": [],
   "source": [
    "## select best feautres\n",
    "best_features_f = SelectKBest(f_classif, k=2300).fit(X_train_scaled, y_train)\n",
    "best_features_m = SelectKBest(mutual_info_classif, k=2300).fit(X_train_scaled, y_train)\n",
    "\n",
    "X_train_scaled_best_features = X_train_scaled[X_train_scaled.columns[best_features_f.get_support()*best_features_m.get_support()]]\n",
    "# X_train_scaled_best_features = X_train_scaled[X_train_scaled.columns[best_features_f.get_support()]]\n"
   ]
  },
  {
   "cell_type": "markdown",
   "metadata": {
    "id": "s-9j1OYaoqMF"
   },
   "source": [
    "# **Modeling data**"
   ]
  },
  {
   "cell_type": "markdown",
   "metadata": {},
   "source": [
    "Gradient boosting"
   ]
  },
  {
   "cell_type": "code",
   "execution_count": 105,
   "metadata": {
    "colab": {
     "base_uri": "https://localhost:8080/",
     "height": 374
    },
    "id": "QWJXocJnpMZp",
    "outputId": "69c26f7d-ca28-45c4-9481-72fe30b0745b"
   },
   "outputs": [
    {
     "name": "stdout",
     "output_type": "stream",
     "text": [
      "XGBoost took 15.48 seconds\n"
     ]
    }
   ],
   "source": [
    "## Grid search\n",
    "numSplits = 4 \n",
    "paramGrid = {'learning_rate': [0.1,0.15,0.2], 'n_estimators': [100,130,150,180], 'max_depth': [3, 5, 7]}\n",
    "# paramGrid = {'n_estimators': [80, 100, 120]}\n",
    "\n",
    "## KNeighborsClassifier; LogisticRegression; DecisionTreeClassifier\n",
    "\n",
    "# gsModel = GridSearchCV(estimator = xgb.XGBClassifier(verbosity = 0, random_state = 1234,class_weight= 'balanced'), param_grid = paramGrid, scoring = 'accuracy', cv = numSplits) #<! ~ 210 [Sec]\n",
    "# gsModel = xgb.XGBClassifier(verbosity = 0, random_state = 1234, class_weight = 'balanced',learning_rate= 0.1, max_depth= 3, n_estimators= 300) #<! ~ 210 [Sec]\n",
    "# gsModel = BaggingClassifier(base_estimator= KNeighborsClassifier(n_neighbors=3),n_estimators=150) #<! ~ 210 [Sec]\n",
    "gsModel = AdaBoostClassifier(base_estimator= LogisticRegression(class_weight='balanced',random_state = 1234,C=1),n_estimators=150,learning_rate=0.1) #<! ~ 210 [Sec]\n",
    "\n",
    "\n",
    "t1 = time()\n",
    "fit = gsModel.fit(X_train_scaled_best_features, y_train)\n",
    "t2 = time()\n",
    "print(f\"XGBoost took {t2-t1:.2f} seconds\")\n",
    "\n"
   ]
  },
  {
   "cell_type": "code",
   "execution_count": null,
   "metadata": {},
   "outputs": [],
   "source": [
    "## print best HP\n",
    "if type(gsModel)==GridSearchCV:\n",
    "    print(gsModel.best_params_)\n",
    "\n",
    "## updated Best params\n",
    "## n_log_loss{'learning_rate': 0.1, 'max_depth': 3, 'n_estimators': 150}\n",
    "## balanced_accuracy{'learning_rate': 0.2, 'max_depth': 7, 'n_estimators': 180}\n",
    "## accuracy{'learning_rate': 0.1, 'max_depth': 7, 'n_estimators': 130}"
   ]
  },
  {
   "cell_type": "code",
   "execution_count": null,
   "metadata": {},
   "outputs": [],
   "source": [
    "## when running to mom grid search, get feature importance\n",
    "if type(gsModel)!=GridSearchCV:\n",
    "    xgb_fea_imp=pd.DataFrame(list(fit.get_booster().get_fscore().items()),\n",
    "    columns=['feature','importance']).sort_values('importance', ascending=False)\n",
    "    xgb_fea_imp[xgb_fea_imp.importance>20].set_index('feature').plot.bar(figsize=(12,8))"
   ]
  },
  {
   "cell_type": "code",
   "execution_count": 106,
   "metadata": {
    "scrolled": true
   },
   "outputs": [
    {
     "name": "stdout",
     "output_type": "stream",
     "text": [
      "confusion matrix:\n",
      "       1.0  2.0  3.0\n",
      "1.0  1225  124    2\n",
      "2.0    46  507   20\n",
      "3.0     0   16  301 \n",
      "\n",
      "classification report:\n",
      "               precision    recall  f1-score   support\n",
      "\n",
      "         1.0       0.96      0.91      0.93      1351\n",
      "         2.0       0.78      0.88      0.83       573\n",
      "         3.0       0.93      0.95      0.94       317\n",
      "\n",
      "    accuracy                           0.91      2241\n",
      "   macro avg       0.89      0.91      0.90      2241\n",
      "weighted avg       0.91      0.91      0.91      2241\n",
      "\n",
      "log_loss 0.7327412275373023\n"
     ]
    }
   ],
   "source": [
    "##print scores\n",
    "def report(clf, X, y):\n",
    "    cm = pd.DataFrame(confusion_matrix(y_true = y, y_pred = clf.predict(X)), \n",
    "                      index = clf.classes_, \n",
    "                      columns = clf.classes_)\n",
    "    rep = classification_report(y_true = y, y_pred = clf.predict(X))\n",
    "    print('confusion matrix:\\n',cm,'\\n')\n",
    "    print('classification report:\\n',rep)\n",
    "    print('log_loss',log_loss(y_pred= clf.predict_proba(X),y_true= y))\n",
    "    \n",
    "report(gsModel, X_train_scaled_best_features, y_train)\n"
   ]
  },
  {
   "cell_type": "code",
   "execution_count": 107,
   "metadata": {},
   "outputs": [
    {
     "name": "stdout",
     "output_type": "stream",
     "text": [
      "confusion matrix:\n",
      "      1.0  2.0  3.0\n",
      "1.0  504   73    2\n",
      "2.0   33  193   20\n",
      "3.0    1   41   94 \n",
      "\n",
      "classification report:\n",
      "               precision    recall  f1-score   support\n",
      "\n",
      "         1.0       0.94      0.87      0.90       579\n",
      "         2.0       0.63      0.78      0.70       246\n",
      "         3.0       0.81      0.69      0.75       136\n",
      "\n",
      "    accuracy                           0.82       961\n",
      "   macro avg       0.79      0.78      0.78       961\n",
      "weighted avg       0.84      0.82      0.83       961\n",
      "\n",
      "log_loss 0.7985856234276654\n"
     ]
    }
   ],
   "source": [
    "## Validation of the model using the test set\n",
    "X_test_scaled = scaler.fit_transform(X_test)\n",
    "X_test_scaled = pd.DataFrame(data= X_test_scaled,columns=X_test.columns)\n",
    "X_test_scaled_best_features = X_test_scaled[X_test_scaled.columns[X_test_scaled.columns.isin(X_train_scaled_best_features.columns)]]\n",
    "\n",
    "report(gsModel, X_test_scaled_best_features, y_test)\n"
   ]
  },
  {
   "cell_type": "markdown",
   "metadata": {},
   "source": [
    "Random forest"
   ]
  },
  {
   "cell_type": "code",
   "execution_count": null,
   "metadata": {},
   "outputs": [],
   "source": [
    "## grid search\n",
    "numSplits = 4 #<! What's the equivalent Train / Test split?\n",
    "paramGrid = {'learning_rate': [0.15,0.2,0.25], 'n_estimators': [70,100,130,150], 'max_depth': [3, 5, 7,9,12]}\n",
    "# paramGrid = {'n_estimators': [80, 100, 120]}\n",
    "\n",
    "# gsModel = GridSearchCV(estimator = xgb.XGBRFClassifier(verbosity = 0, random_state = 1234,class_weight= 'balanced'), param_grid = paramGrid, scoring = 'neg_log_loss', cv = numSplits) #<! ~ 210 [Sec]\n",
    "gsModel = xgb.XGBRFClassifier(verbosity = 0, random_state = 1234,class_weight= 'balanced',n_estimator= 100,learning_rate= 0.25,max_depth= 12) #<! ~ 210 [Sec]\n",
    "\n",
    "\n",
    "t1 = time()\n",
    "fit = gsModel.fit(X_train_scaled_best_features, y_train)\n",
    "t2 = time()\n",
    "print(f\"XGBoost took {t2-t1:.2f} seconds\")\n"
   ]
  },
  {
   "cell_type": "code",
   "execution_count": null,
   "metadata": {},
   "outputs": [],
   "source": [
    "## best params\n",
    "if type(gsModel)==GridSearchCV:\n",
    "    print(gsModel.best_params_)\n",
    "\n",
    "## updated Best params\n",
    "## n_log_loss{'learning_rate': 0.25, 'max_depth': 12, 'n_estimators': 100}\n"
   ]
  },
  {
   "cell_type": "code",
   "execution_count": null,
   "metadata": {},
   "outputs": [],
   "source": [
    "## non GS feature importance\n",
    "if type(gsModel)!=GridSearchCV:\n",
    "    xgb_fea_imp=pd.DataFrame(list(fit.get_booster().get_fscore().items()),\n",
    "    columns=['feature','importance']).sort_values('importance', ascending=False)\n",
    "    xgb_fea_imp[xgb_fea_imp.importance>20].set_index('feature').plot.bar(figsize=(12,8))"
   ]
  },
  {
   "cell_type": "code",
   "execution_count": null,
   "metadata": {},
   "outputs": [],
   "source": [
    "##train set score\n",
    "report(gsModel, X_train_scaled_best_features, y_train)\n"
   ]
  },
  {
   "cell_type": "code",
   "execution_count": null,
   "metadata": {},
   "outputs": [],
   "source": [
    "##test set validation\n",
    "X_test_scaled = scaler.fit_transform(X_test)\n",
    "X_test_scaled = pd.DataFrame(data= X_test_scaled,columns=X_test.columns)\n",
    "X_test_scaled_best_features = X_test_scaled[X_test_scaled.columns[X_test_scaled.columns.isin(X_train_scaled_best_features.columns)]]\n",
    "\n",
    "report(gsModel, X_test_scaled_best_features, y_test)"
   ]
  }
 ],
 "metadata": {
  "colab": {
   "collapsed_sections": [],
   "name": "Classification_project.ipynb",
   "provenance": []
  },
  "kernelspec": {
   "display_name": "Python 3",
   "language": "python",
   "name": "python3"
  },
  "language_info": {
   "codemirror_mode": {
    "name": "ipython",
    "version": 3
   },
   "file_extension": ".py",
   "mimetype": "text/x-python",
   "name": "python",
   "nbconvert_exporter": "python",
   "pygments_lexer": "ipython3",
   "version": "3.8.8"
  }
 },
 "nbformat": 4,
 "nbformat_minor": 1
}
